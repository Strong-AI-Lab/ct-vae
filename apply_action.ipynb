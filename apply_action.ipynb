{
 "cells": [
  {
   "cell_type": "code",
   "execution_count": null,
   "metadata": {},
   "outputs": [],
   "source": [
    "import yaml\n",
    "\n",
    "with open(\"configs/ct_mcq_vae.yaml\", 'r') as file:\n",
    "    try:\n",
    "        config = yaml.safe_load(file)\n",
    "    except yaml.YAMLError as exc:\n",
    "        print(exc)"
   ]
  },
  {
   "cell_type": "code",
   "execution_count": null,
   "metadata": {},
   "outputs": [],
   "source": [
    "from models import CTMCQVAE\n",
    "import torch\n",
    "import re\n",
    "\n",
    "model = CTMCQVAE(**config['model_params'])\n",
    "checkpoint = torch.load(config['trainer_params']['resume_from_checkpoint'])\n",
    "state_dict = dict(map(lambda x : (re.sub('model.', '', x[0]), x[1]), checkpoint['state_dict'].items()))\n",
    "model.eval()\n",
    "model.load_state_dict(state_dict)"
   ]
  },
  {
   "cell_type": "code",
   "execution_count": null,
   "metadata": {},
   "outputs": [],
   "source": [
    "from dataset import VAEDataset\n",
    "\n",
    "dataset = VAEDataset(**config['data_params'])\n",
    "dataset.setup()"
   ]
  },
  {
   "cell_type": "code",
   "execution_count": null,
   "metadata": {},
   "outputs": [],
   "source": [
    "loader = iter(dataset.test_dataloader())\n",
    "# loader = iter(dataset.val_dataloader())\n",
    "# loader = dataset.train_dataloader()"
   ]
  },
  {
   "cell_type": "code",
   "execution_count": null,
   "metadata": {},
   "outputs": [],
   "source": [
    "mode = \"\"\n",
    "while mode != \"action\": \n",
    "    batch = next(loader)\n",
    "    test_input, test_label, *args = batch\n",
    "    mode = args[0][\"mode\"][0]\n",
    "test_output = model(test_input, labels = test_label, **args[0])\n",
    "test_y = args[0][\"input_y\"]\n",
    "\n",
    "print(\"mode: \", mode)"
   ]
  },
  {
   "cell_type": "code",
   "execution_count": null,
   "metadata": {},
   "outputs": [],
   "source": [
    "import torchvision\n",
    "import matplotlib.pyplot as plt\n",
    "\n",
    "input_images = [torchvision.transforms.functional.to_pil_image(test_input[i]) for i in range(test_input.size(0))]\n",
    "output_images = [torchvision.transforms.functional.to_pil_image(test_output[0][i]) for i in range(test_output[0].size(0))]\n",
    "\n",
    "dataset_name = config[\"data_params\"][\"dataset_name\"]\n",
    "factors = {\n",
    "    # \"TCeleba\": [\"5_o_Clock_Shadow\", \"Arched_Eyebrows\", \"Attractive\", \"Bags_Under_Eyes\", \"Bald\", \"Bangs\", \"Big_Lips\", \"Big_Nose\", \"Black_Hair\", \"Blond_Hair\", \"Blurry\", \"Brown_Hair\", \"Bushy_Eyebrows\", \"Chubby\", \"Double_Chin\", \"Eyeglasses\", \"Goatee\", \"Gray_Hair\", \"Heavy_Makeup\", \"High_Cheekbones\", \"Male\", \"Mouth_Slightly_Open\", \"Mustache\", \"Narrow_Eyes\", \"No_Beard\", \"Oval_Face\", \"Pale_Skin\", \"Pointy_Nose\", \"Receding_Hairline\", \"Rosy_Cheeks\", \"Sideburns\", \"Smiling\", \"Straight_Hair\", \"Wavy_Hair\", \"Wearing_Earrings\", \"Wearing_Hat\", \"Wearing_Lipstick\", \"Wearing_Necklace\", \"Wearing_Necktie\", \"Young\"],\n",
    "    \"TCeleba\": [\"5_o_Clock_Shadow\", \"Arched_Eyebrows\", \"Attractive\", \"Bags_Under_Eyes\", \"Bald\", \"Bangs\", \"Big_Lips\", \"Big_Nose\", \"Black_Hair\", \"Blond_Hair\"],\n",
    "    \"TCars3D\": ['elevation', 'azimuth', 'object_type'],\n",
    "    \"TShapes3D\": ['floor_hue', 'wall_hue', 'object_hue', 'scale', 'shape', 'orientation'],\n",
    "    \"TDSprites\": ['shape', 'scale', 'orientation', 'position_x', 'position_y'],\n",
    "    \"TSprites\": ['bottomwear', 'topwear', 'hair', 'eyes', 'shoes', 'body', 'action', 'rotation', 'frame']\n",
    "}\n",
    "action_list = factors[dataset_name]\n",
    "\n",
    "if mode == \"action\":\n",
    "    y_images = [torchvision.transforms.functional.to_pil_image(test_y[i]) for i in range(test_y.size(0))]\n",
    "    action_ids = [torch.argmax(action_vector).tolist() for action_vector in args[0][\"action\"]]\n",
    "\n",
    "fig = plt.figure(figsize=(50, 14))\n",
    "figsize = (3*len(input_images)//12)+1, 12\n",
    "for i in range(len(input_images)):\n",
    "    fig.add_subplot(figsize[0], figsize[1], 3*i+1)\n",
    "    plt.imshow(input_images[i])\n",
    "    plt.axis('off')\n",
    "    fig.add_subplot(figsize[0], figsize[1], 3*i+2)\n",
    "    plt.imshow(output_images[i])\n",
    "    plt.axis('off')\n",
    "    if mode == \"action\":\n",
    "        action = action_ids[i]\n",
    "        dir = \"+\"\n",
    "        if action >= len(action_list):\n",
    "            action = action - len(action_list)\n",
    "            dir = \"-\"\n",
    "        plt.title(f\"action {action}: {action_list[action]} {dir}\")\n",
    "        fig.add_subplot(figsize[0], figsize[1], 3*i+3)\n",
    "        plt.imshow(y_images[i])\n",
    "        plt.title(\"true y\")\n",
    "        plt.axis('off')\n",
    "\n"
   ]
  },
  {
   "cell_type": "code",
   "execution_count": null,
   "metadata": {},
   "outputs": [],
   "source": [
    "import os\n",
    "import torchvision.utils as vutils\n",
    "import torch.nn.functional as F\n",
    "\n",
    "id = \"test5_noiseexo\"\n",
    "nb_actions = 2*len(action_list)\n",
    "n=0\n",
    "\n",
    "sample = test_input[n].unsqueeze(0)\n",
    "print(test_label[n])\n",
    "vutils.save_image(sample.data,\n",
    "                    os.path.join(\"images/\", \n",
    "                                f\"{dataset_name}_{id}/\",\n",
    "                                f\"CT-VAE-V5_input_action_{dataset_name}_{id}.png\"),\n",
    "                    normalize=True,\n",
    "                    nrow=12)\n",
    "sample = sample.repeat(nb_actions,1,1,1)\n",
    "\n",
    "for i in range(5):\n",
    "    action = F.one_hot(torch.arange(nb_actions)).to(dtype=torch.float32)\n",
    "    sample_args = {\n",
    "        \"mode\": [\"action\"] * nb_actions,\n",
    "        \"action\": action,\n",
    "        \"input_y\": sample\n",
    "    }\n",
    "    sample = model(sample, labels = None, **sample_args)[0]\n",
    "\n",
    "    for sign_id, sign in enumerate([\"+\", \"-\"]):\n",
    "        for action_id, action_name in enumerate(action_list):\n",
    "            vutils.save_image(sample[sign_id * len(action_list) + action_id].data,\n",
    "                        os.path.join(\"images/\", \n",
    "                                    f\"{dataset_name}_{id}/\",\n",
    "                                    f\"CT-VAE-V5_output_action_{dataset_name}_{action_name}_{sign}{i}_{id}.png\"),\n",
    "                        normalize=True,\n",
    "                        nrow=12)\n"
   ]
  },
  {
   "cell_type": "code",
   "execution_count": null,
   "metadata": {},
   "outputs": [],
   "source": [
    "import pandas as pd\n",
    "\n",
    "d= {'_'.join([a,dir, metric]):[] for a in action_list for metric in [\"causal_acc\", \"causal_nodir_acc\"] for dir in [\"+\", \"-\"]}\n",
    "action = F.one_hot(torch.arange(nb_actions)).to(dtype=torch.float32)\n",
    "sample_in = [test_input for _ in range(len(action))]\n",
    "for i in range(1):\n",
    "    for a in range(len(action)):\n",
    "        sample_args = {\n",
    "            \"mode\": [\"action\"] * test_input.size(0),\n",
    "            \"action\": action[a].unsqueeze(0).repeat(test_input.size(0),1),\n",
    "            \"input_y\": sample_in[a]\n",
    "        }\n",
    "        sample_out = model(sample_in[a], labels = None, **sample_args)[0]\n",
    "        sample_out_args = {\n",
    "            \"mode\": [\"causal\"] * test_input.size(0),\n",
    "            \"action\": action[a].unsqueeze(0).repeat(test_input.size(0),1),\n",
    "            \"input_y\": sample_out\n",
    "        }\n",
    "        metrics = model(test_input, labels = None, **sample_out_args)[4]\n",
    "        dir = [\"+\",\"-\"][a//len(action_list)]\n",
    "        d[f\"{action_list[a % len(action_list)]}_{dir}_causal_acc\"].append(metrics[\"causal_acc\"].tolist())\n",
    "        d[f\"{action_list[a % len(action_list)]}_{dir}_causal_nodir_acc\"].append(metrics[\"causal_nodir_acc\"].tolist())\n",
    "        sample_in[a] = sample_out\n",
    "\n",
    "print(pd.DataFrame(d))"
   ]
  },
  {
   "cell_type": "code",
   "execution_count": null,
   "metadata": {},
   "outputs": [],
   "source": [
    "import matplotlib.pyplot as plt\n",
    "\n",
    "plt.clf()\n",
    "plt.ylim(0,1)\n",
    "for name, values in d.items():\n",
    "    name_attrs = name.split(\"_\")\n",
    "    if \"Hair\" in name_attrs:\n",
    "        plot_name = (\"Factor\" if \"nodir\" in name_attrs else \"Action\") + (\" (+)\" if \"+\" in name_attrs else \" (-)\")\n",
    "        plt.plot(range(len(values)), values, label=plot_name)\n",
    "        plt.xlabel(\"Steps\")\n",
    "        plt.ylabel(\"Acc.\")\n",
    "plt.legend()\n",
    "plt.show()"
   ]
  },
  {
   "cell_type": "code",
   "execution_count": null,
   "metadata": {},
   "outputs": [],
   "source": [
    "from tqdm import tqdm\n",
    "\n",
    "loader = iter(dataset.test_dataloader())\n",
    "val_acc = []\n",
    "val_nodir_acc = []\n",
    "\n",
    "for batch in tqdm(loader):\n",
    "    test_input, test_label, *args = batch\n",
    "    mode = args[0][\"mode\"][0]\n",
    "    if mode == \"causal\":\n",
    "        test_output = model(test_input, labels = test_label, **args[0])\n",
    "        metrics = test_output[4]\n",
    "        val_acc.append(metrics[\"causal_acc\"])\n",
    "        val_nodir_acc.append(metrics[\"causal_nodir_acc\"])\n",
    "val_acc = torch.stack(val_acc)\n",
    "val_nodir_acc = torch.stack(val_nodir_acc)\n",
    "\n",
    "print(\"val acc: \", val_acc)\n",
    "print(\"val nodir acc: \", val_nodir_acc)\n",
    "print(\"val acc: mean: \", val_acc.mean())\n",
    "print(\"val nodir acc mean: \", val_nodir_acc.mean())"
   ]
  }
 ],
 "metadata": {
  "kernelspec": {
   "display_name": "env",
   "language": "python",
   "name": "python3"
  },
  "language_info": {
   "codemirror_mode": {
    "name": "ipython",
    "version": 3
   },
   "file_extension": ".py",
   "mimetype": "text/x-python",
   "name": "python",
   "nbconvert_exporter": "python",
   "pygments_lexer": "ipython3",
   "version": "3.8.10"
  },
  "orig_nbformat": 4,
  "vscode": {
   "interpreter": {
    "hash": "a5fb0e67cc12786a441250c88e85a8589d4d48cb12f53c30f19022d09893c904"
   }
  }
 },
 "nbformat": 4,
 "nbformat_minor": 2
}
