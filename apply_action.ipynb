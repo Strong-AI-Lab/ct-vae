{
 "cells": [
  {
   "cell_type": "code",
   "execution_count": null,
   "metadata": {},
   "outputs": [],
   "source": [
    "import yaml\n",
    "\n",
    "with open(\"configs/ct_mcq_vae.yaml\", 'r') as file:\n",
    "    try:\n",
    "        config = yaml.safe_load(file)\n",
    "    except yaml.YAMLError as exc:\n",
    "        print(exc)"
   ]
  },
  {
   "cell_type": "code",
   "execution_count": null,
   "metadata": {},
   "outputs": [],
   "source": [
    "from models import CTMCQVAE\n",
    "import torch\n",
    "import re\n",
    "\n",
    "model = CTMCQVAE(**config['model_params'])\n",
    "checkpoint = torch.load(config['trainer_params']['resume_from_checkpoint'])\n",
    "state_dict = dict(map(lambda x : (re.sub('model.', '', x[0]), x[1]), checkpoint['state_dict'].items()))\n",
    "model.eval()\n",
    "model.load_state_dict(state_dict)"
   ]
  },
  {
   "cell_type": "code",
   "execution_count": null,
   "metadata": {},
   "outputs": [],
   "source": [
    "from dataset import VAEDataset\n",
    "\n",
    "dataset = VAEDataset(**config['data_params'])\n",
    "dataset.setup()\n"
   ]
  },
  {
   "cell_type": "code",
   "execution_count": null,
   "metadata": {},
   "outputs": [],
   "source": [
    "loader = dataset.test_dataloader()\n",
    "# loader = dataset.train_dataloader()"
   ]
  },
  {
   "cell_type": "code",
   "execution_count": null,
   "metadata": {},
   "outputs": [],
   "source": [
    "batch = next(iter(loader))\n",
    "test_input, test_label, *args = batch\n",
    "test_output = model(test_input, labels = test_label, **args[0])"
   ]
  },
  {
   "cell_type": "code",
   "execution_count": null,
   "metadata": {},
   "outputs": [],
   "source": [
    "import torchvision\n",
    "import matplotlib.pyplot as plt\n",
    "\n",
    "input_images = [torchvision.transforms.functional.to_pil_image(test_input[i]) for i in range(test_input.size(0))]\n",
    "output_images = [torchvision.transforms.functional.to_pil_image(test_output[0][i]) for i in range(test_output[0].size(0))]\n",
    "\n",
    "# action_list = [\"5_o_Clock_Shadow\", \"Arched_Eyebrows\", \"Attractive\", \"Bags_Under_Eyes\", \"Bald\", \"Bangs\", \"Big_Lips\", \"Big_Nose\", \"Black_Hair\", \"Blond_Hair\", \"Blurry\", \"Brown_Hair\", \"Bushy_Eyebrows\", \"Chubby\", \"Double_Chin\", \"Eyeglasses\", \"Goatee\", \"Gray_Hair\", \"Heavy_Makeup\", \"High_Cheekbones\", \"Male\", \"Mouth_Slightly_Open\", \"Mustache\", \"Narrow_Eyes\", \"No_Beard\", \"Oval_Face\", \"Pale_Skin\", \"Pointy_Nose\", \"Receding_Hairline\", \"Rosy_Cheeks\", \"Sideburns\", \"Smiling\", \"Straight_Hair\", \"Wavy_Hair\", \"Wearing_Earrings\", \"Wearing_Hat\", \"Wearing_Lipstick\", \"Wearing_Necklace\", \"Wearing_Necktie\", \"Young\"]\n",
    "action_list = ['elevation', 'azimuth', 'object_type']\n",
    "if \"action\" in args[0]:\n",
    "    action_ids = [torch.argmax(action_vector).tolist() for action_vector in args[0][\"action\"]]\n",
    "\n",
    "fig = plt.figure(figsize=(50, 14))\n",
    "figsize = 2*(len(input_images)//16)+1, 16\n",
    "for i in range(len(input_images)):\n",
    "    fig.add_subplot(figsize[0], figsize[1], 2*i+1)\n",
    "    plt.imshow(input_images[i])\n",
    "    fig.add_subplot(figsize[0], figsize[1], 2*i+2)\n",
    "    plt.imshow(output_images[i])\n",
    "    if \"action\" in args[0]:\n",
    "        action = action_ids[i]\n",
    "        dir = \"+\"\n",
    "        if action >= len(action_list):\n",
    "            action = action - len(action_list)\n",
    "            dir = \"-\"\n",
    "        plt.title(f\"action {action}: {action_list[action]} {dir}\")"
   ]
  }
 ],
 "metadata": {
  "kernelspec": {
   "display_name": "env",
   "language": "python",
   "name": "python3"
  },
  "language_info": {
   "codemirror_mode": {
    "name": "ipython",
    "version": 3
   },
   "file_extension": ".py",
   "mimetype": "text/x-python",
   "name": "python",
   "nbconvert_exporter": "python",
   "pygments_lexer": "ipython3",
   "version": "3.8.10 (default, Jun 22 2022, 20:18:18) \n[GCC 9.4.0]"
  },
  "orig_nbformat": 4,
  "vscode": {
   "interpreter": {
    "hash": "a5fb0e67cc12786a441250c88e85a8589d4d48cb12f53c30f19022d09893c904"
   }
  }
 },
 "nbformat": 4,
 "nbformat_minor": 2
}
